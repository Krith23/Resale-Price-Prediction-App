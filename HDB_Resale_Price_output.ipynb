{
 "cells": [
  {
   "cell_type": "code",
   "execution_count": 1,
   "id": "ccb736a5",
   "metadata": {},
   "outputs": [
    {
     "name": "stdout",
     "output_type": "stream",
     "text": [
      "Defaulting to user installation because normal site-packages is not writeable"
     ]
    },
    {
     "name": "stderr",
     "output_type": "stream",
     "text": [
      "WARNING: Ignoring invalid distribution -rotobuf (c:\\users\\krithika jk\\appdata\\roaming\\python\\python39\\site-packages)\n",
      "WARNING: Ignoring invalid distribution -rotobuf (c:\\users\\krithika jk\\appdata\\roaming\\python\\python39\\site-packages)\n",
      "WARNING: Ignoring invalid distribution -rotobuf (c:\\users\\krithika jk\\appdata\\roaming\\python\\python39\\site-packages)\n",
      "WARNING: Ignoring invalid distribution -rotobuf (c:\\users\\krithika jk\\appdata\\roaming\\python\\python39\\site-packages)\n",
      "WARNING: Ignoring invalid distribution -rotobuf (c:\\users\\krithika jk\\appdata\\roaming\\python\\python39\\site-packages)\n",
      "WARNING: Ignoring invalid distribution -rotobuf (c:\\users\\krithika jk\\appdata\\roaming\\python\\python39\\site-packages)\n"
     ]
    },
    {
     "name": "stdout",
     "output_type": "stream",
     "text": [
      "\n",
      "Requirement already satisfied: joblib in c:\\users\\krithika jk\\appdata\\roaming\\python\\python39\\site-packages (1.3.2)\n",
      "Requirement already satisfied: numpy in c:\\users\\krithika jk\\appdata\\roaming\\python\\python39\\site-packages (1.26.4)\n",
      "Requirement already satisfied: pandas in c:\\programdata\\anaconda3\\lib\\site-packages (1.4.2)\n",
      "Requirement already satisfied: scikit-learn==1.5.2 in c:\\users\\krithika jk\\appdata\\roaming\\python\\python39\\site-packages (1.5.2)\n",
      "Requirement already satisfied: matplotlib in c:\\programdata\\anaconda3\\lib\\site-packages (3.5.1)\n",
      "Requirement already satisfied: seaborn in c:\\programdata\\anaconda3\\lib\\site-packages (0.11.2)\n",
      "Requirement already satisfied: geopy in c:\\users\\krithika jk\\appdata\\roaming\\python\\python39\\site-packages (2.4.1)\n",
      "Requirement already satisfied: xgboost==2.1.1 in c:\\users\\krithika jk\\appdata\\roaming\\python\\python39\\site-packages (2.1.1)\n",
      "Requirement already satisfied: threadpoolctl>=3.1.0 in c:\\users\\krithika jk\\appdata\\roaming\\python\\python39\\site-packages (from scikit-learn==1.5.2) (3.6.0)\n",
      "Requirement already satisfied: scipy>=1.6.0 in c:\\users\\krithika jk\\appdata\\roaming\\python\\python39\\site-packages (from scikit-learn==1.5.2) (1.13.0)\n",
      "Requirement already satisfied: pytz>=2020.1 in c:\\programdata\\anaconda3\\lib\\site-packages (from pandas) (2021.3)\n",
      "Requirement already satisfied: python-dateutil>=2.8.1 in c:\\programdata\\anaconda3\\lib\\site-packages (from pandas) (2.8.2)\n",
      "Requirement already satisfied: fonttools>=4.22.0 in c:\\programdata\\anaconda3\\lib\\site-packages (from matplotlib) (4.25.0)\n",
      "Requirement already satisfied: pyparsing>=2.2.1 in c:\\programdata\\anaconda3\\lib\\site-packages (from matplotlib) (3.0.4)\n",
      "Requirement already satisfied: packaging>=20.0 in c:\\programdata\\anaconda3\\lib\\site-packages (from matplotlib) (21.3)\n",
      "Requirement already satisfied: pillow>=6.2.0 in c:\\programdata\\anaconda3\\lib\\site-packages (from matplotlib) (9.0.1)\n",
      "Requirement already satisfied: cycler>=0.10 in c:\\programdata\\anaconda3\\lib\\site-packages (from matplotlib) (0.11.0)\n",
      "Requirement already satisfied: kiwisolver>=1.0.1 in c:\\programdata\\anaconda3\\lib\\site-packages (from matplotlib) (1.3.2)\n",
      "Requirement already satisfied: geographiclib<3,>=1.52 in c:\\users\\krithika jk\\appdata\\roaming\\python\\python39\\site-packages (from geopy) (2.0)\n",
      "Requirement already satisfied: six>=1.5 in c:\\programdata\\anaconda3\\lib\\site-packages (from python-dateutil>=2.8.1->pandas) (1.16.0)\n"
     ]
    }
   ],
   "source": [
    "# 📦 Install Required Libraries (only run once)\n",
    "!pip install joblib \\\n",
    "             scikit-learn==1.5.2 \\\n",
    "             geopy \\\n",
    "             xgboost==2.1.1"
   ]
  },
  {
   "cell_type": "code",
   "execution_count": 2,
   "id": "4cb1826a",
   "metadata": {},
   "outputs": [],
   "source": [
    "import numpy as np\n",
    "import pandas as pd\n",
    "from geopy.distance import geodesic\n",
    "from models import load_models\n",
    "from utils import get_lat_long, cal_lease_remaining_years, get_address\n",
    "from config import town_coordinates, towns, flat_types, flat_models, expected_columns"
   ]
  },
  {
   "cell_type": "code",
   "execution_count": 3,
   "id": "2b913c9d",
   "metadata": {},
   "outputs": [],
   "source": [
    "rf, gb, xgb, dt, meta_model, scaler = load_models()"
   ]
  },
  {
   "cell_type": "markdown",
   "id": "2b68d3a7",
   "metadata": {},
   "source": [
    "## Input Flat Details"
   ]
  },
  {
   "cell_type": "code",
   "execution_count": 9,
   "id": "0e9c5899",
   "metadata": {},
   "outputs": [],
   "source": [
    "# Add input feature values accordingly\n",
    "selected_town = \"JURONG East\"\n",
    "selected_flat_type = \"4 ROOM\"\n",
    "selected_flat_model = \"Improved\"\n",
    "block = \"909\"\n",
    "street_name = \"JURONG East ST 91\"\n",
    "year_of_sale = 2019\n",
    "storey_median = 8\n",
    "lease_commence_date = 1989\n",
    "floor_area_sqm = 122.0\n"
   ]
  },
  {
   "cell_type": "markdown",
   "id": "e0c23d81",
   "metadata": {},
   "source": [
    "## Calculate Distances to Amenities"
   ]
  },
  {
   "cell_type": "code",
   "execution_count": 10,
   "id": "135b9d98",
   "metadata": {},
   "outputs": [],
   "source": [
    "# Construct address and get coordinates\n",
    "address = get_address(block, street_name)\n",
    "latitude, longitude = get_lat_long(address)\n",
    "origin = (latitude, longitude)\n",
    "\n",
    "# Load amenity locations\n",
    "mrt_location = pd.read_csv('data/mrt_address.csv')\n",
    "school_location = pd.read_csv('data/schools_address.csv')\n",
    "supermarket_location = pd.read_csv('data/shops_address.csv')\n",
    "hawker_location = pd.read_csv('data/hawkers_address.csv')\n",
    "\n",
    "# Calculate distances\n",
    "nearest_mrt_distance = min([geodesic(origin, (row['latitude'], row['longitude'])).meters for _, row in mrt_location.iterrows()])\n",
    "nearest_supermarket_distance = min([geodesic(origin, (row['latitude'], row['longitude'])).meters for _, row in supermarket_location.iterrows()])\n",
    "nearest_school_distance = min([geodesic(origin, (row['latitude'], row['longitude'])).meters for _, row in school_location.iterrows()])\n",
    "nearest_hawkers_distance = min([geodesic(origin, (row['latitude'], row['longitude'])).meters for _, row in hawker_location.iterrows()])\n",
    "cbd_distance = geodesic(origin, (1.287953, 103.851784)).meters\n",
    "calculated_remaining_lease = cal_lease_remaining_years(lease_commence_date, year_of_sale)\n"
   ]
  },
  {
   "cell_type": "markdown",
   "id": "66e27511",
   "metadata": {},
   "source": [
    "## Prepare Input Data"
   ]
  },
  {
   "cell_type": "code",
   "execution_count": 11,
   "id": "34ba4b06",
   "metadata": {},
   "outputs": [
    {
     "data": {
      "text/html": [
       "<div>\n",
       "<style scoped>\n",
       "    .dataframe tbody tr th:only-of-type {\n",
       "        vertical-align: middle;\n",
       "    }\n",
       "\n",
       "    .dataframe tbody tr th {\n",
       "        vertical-align: top;\n",
       "    }\n",
       "\n",
       "    .dataframe thead th {\n",
       "        text-align: right;\n",
       "    }\n",
       "</style>\n",
       "<table border=\"1\" class=\"dataframe\">\n",
       "  <thead>\n",
       "    <tr style=\"text-align: right;\">\n",
       "      <th></th>\n",
       "      <th>floor_area_sqm</th>\n",
       "      <th>nearest_supermarket_distance</th>\n",
       "      <th>nearest_school_distance</th>\n",
       "      <th>nearest_mrt_distance</th>\n",
       "      <th>nearest_hawkers_distance</th>\n",
       "      <th>cbd_distance</th>\n",
       "      <th>year_of_sale</th>\n",
       "      <th>calculated_remaining_lease</th>\n",
       "      <th>storey_median</th>\n",
       "      <th>town_BEDOK</th>\n",
       "      <th>...</th>\n",
       "      <th>flat_model_Multi Generation</th>\n",
       "      <th>flat_model_New Generation</th>\n",
       "      <th>flat_model_Premium Apartment</th>\n",
       "      <th>flat_model_Premium Apartment Loft</th>\n",
       "      <th>flat_model_Premium Maisonette</th>\n",
       "      <th>flat_model_Simplified</th>\n",
       "      <th>flat_model_Standard</th>\n",
       "      <th>flat_model_Terrace</th>\n",
       "      <th>flat_model_Type S1</th>\n",
       "      <th>flat_model_Type S2</th>\n",
       "    </tr>\n",
       "  </thead>\n",
       "  <tbody>\n",
       "    <tr>\n",
       "      <th>0</th>\n",
       "      <td>122.0</td>\n",
       "      <td>567.593236</td>\n",
       "      <td>211.32884</td>\n",
       "      <td>1273.061437</td>\n",
       "      <td>3096.32379</td>\n",
       "      <td>19318.073923</td>\n",
       "      <td>2019</td>\n",
       "      <td>69</td>\n",
       "      <td>8</td>\n",
       "      <td>0</td>\n",
       "      <td>...</td>\n",
       "      <td>0</td>\n",
       "      <td>0</td>\n",
       "      <td>0</td>\n",
       "      <td>0</td>\n",
       "      <td>0</td>\n",
       "      <td>0</td>\n",
       "      <td>0</td>\n",
       "      <td>0</td>\n",
       "      <td>0</td>\n",
       "      <td>0</td>\n",
       "    </tr>\n",
       "  </tbody>\n",
       "</table>\n",
       "<p>1 rows × 61 columns</p>\n",
       "</div>"
      ],
      "text/plain": [
       "   floor_area_sqm  nearest_supermarket_distance  nearest_school_distance  \\\n",
       "0           122.0                    567.593236                211.32884   \n",
       "\n",
       "   nearest_mrt_distance  nearest_hawkers_distance  cbd_distance  year_of_sale  \\\n",
       "0           1273.061437                3096.32379  19318.073923          2019   \n",
       "\n",
       "   calculated_remaining_lease  storey_median  town_BEDOK  ...  \\\n",
       "0                          69              8           0  ...   \n",
       "\n",
       "   flat_model_Multi Generation  flat_model_New Generation  \\\n",
       "0                            0                          0   \n",
       "\n",
       "   flat_model_Premium Apartment  flat_model_Premium Apartment Loft  \\\n",
       "0                             0                                  0   \n",
       "\n",
       "   flat_model_Premium Maisonette  flat_model_Simplified  flat_model_Standard  \\\n",
       "0                              0                      0                    0   \n",
       "\n",
       "   flat_model_Terrace  flat_model_Type S1  flat_model_Type S2  \n",
       "0                   0                   0                   0  \n",
       "\n",
       "[1 rows x 61 columns]"
      ]
     },
     "execution_count": 11,
     "metadata": {},
     "output_type": "execute_result"
    }
   ],
   "source": [
    "input_data = {\n",
    "    'nearest_hawkers_distance': [nearest_hawkers_distance],\n",
    "    'floor_area_sqm': [floor_area_sqm],\n",
    "    'nearest_mrt_distance': [nearest_mrt_distance],\n",
    "    'nearest_school_distance': [nearest_school_distance],\n",
    "    'cbd_distance': [cbd_distance],\n",
    "    'year_of_sale': [year_of_sale],\n",
    "    'storey_median': [storey_median],\n",
    "    'calculated_remaining_lease': [calculated_remaining_lease],\n",
    "    'nearest_supermarket_distance': [nearest_supermarket_distance]\n",
    "}\n",
    "\n",
    "input_df = pd.DataFrame(input_data)\n",
    "\n",
    "for town in towns:\n",
    "    input_df[f'town_{town}'] = 1 if selected_town == town else 0\n",
    "\n",
    "for flat_type in flat_types:\n",
    "    input_df[f'flat_type_{flat_type}'] = 1 if selected_flat_type == flat_type else 0\n",
    "\n",
    "for flat_model in flat_models:\n",
    "    input_df[f'flat_model_{flat_model}'] = 1 if selected_flat_model == flat_model else 0\n",
    "\n",
    "input_df = input_df.reindex(columns=expected_columns, fill_value=0)\n",
    "input_scaled = scaler.transform(input_df)\n",
    "input_df.head()\n"
   ]
  },
  {
   "cell_type": "markdown",
   "id": "e5f7fdbe",
   "metadata": {},
   "source": [
    "## Predict Resale Price"
   ]
  },
  {
   "cell_type": "code",
   "execution_count": 12,
   "id": "2a3a035e",
   "metadata": {},
   "outputs": [
    {
     "name": "stdout",
     "output_type": "stream",
     "text": [
      "Predicted Resale Price: $320191.09\n",
      "Distance to Nearest MRT: 1273.06 m\n",
      "Nearest Supermarket: 567.59 m\n",
      "Nearest School: 211.33 m\n",
      "Nearest Hawker Centre: 3096.32 m\n",
      "Distance to CBD: 19318.07 m\n"
     ]
    }
   ],
   "source": [
    "rf_pred_new = rf.predict(input_scaled)\n",
    "gb_pred_new = gb.predict(input_scaled)\n",
    "xgb_pred_new = xgb.predict(input_scaled)\n",
    "dt_pred_new = dt.predict(input_scaled)\n",
    "\n",
    "X_new_meta = np.column_stack((rf_pred_new, gb_pred_new, dt_pred_new, xgb_pred_new))\n",
    "y_new_pred = meta_model.predict(X_new_meta)\n",
    "\n",
    "# Print results\n",
    "print(\"Predicted Resale Price: ${:.2f}\".format(y_new_pred[0]))\n",
    "print(\"Distance to Nearest MRT: {:.2f} m\".format(nearest_mrt_distance))\n",
    "print(\"Nearest Supermarket: {:.2f} m\".format(nearest_supermarket_distance))\n",
    "print(\"Nearest School: {:.2f} m\".format(nearest_school_distance))\n",
    "print(\"Nearest Hawker Centre: {:.2f} m\".format(nearest_hawkers_distance))\n",
    "print(\"Distance to CBD: {:.2f} m\".format(cbd_distance))"
   ]
  }
 ],
 "metadata": {
  "kernelspec": {
   "display_name": "Python 3 (ipykernel)",
   "language": "python",
   "name": "python3"
  },
  "language_info": {
   "codemirror_mode": {
    "name": "ipython",
    "version": 3
   },
   "file_extension": ".py",
   "mimetype": "text/x-python",
   "name": "python",
   "nbconvert_exporter": "python",
   "pygments_lexer": "ipython3",
   "version": "3.9.12"
  }
 },
 "nbformat": 4,
 "nbformat_minor": 5
}
